{
 "cells": [
  {
   "cell_type": "code",
   "execution_count": 2,
   "metadata": {},
   "outputs": [],
   "source": [
    "import numpy as np\n",
    "from typing import Tuple, List, T\n",
    "from numpy.typing import NDArray"
   ]
  },
  {
   "cell_type": "code",
   "execution_count": 5,
   "metadata": {},
   "outputs": [
    {
     "data": {
      "text/plain": [
       "0.0"
      ]
     },
     "execution_count": 5,
     "metadata": {},
     "output_type": "execute_result"
    }
   ],
   "source": [
    "class RateLimitManager:\n",
    "    \"\"\"Manages and updates order rate limit states\"\"\"\n",
    "\n",
    "    def __init__(self) -> None:\n",
    "        self.rate_limits = {\n",
    "            \"create\": [0, 0, 0],\n",
    "            \"amend\": [0, 0, 0],\n",
    "            \"cancel\": [0, 0, 0],\n",
    "            \"cancel_all\": [0, 0, 0]\n",
    "        }\n",
    "\n",
    "    def _initialize_data_(self, orderType):\n",
    "        self.rate_limits[orderType] = 0\n",
    "\n",
    "    def update(self, orderType) -> None:    \n",
    "        self.rate_limits[orderType]"
   ]
  },
  {
   "cell_type": "code",
   "execution_count": 14,
   "metadata": {},
   "outputs": [],
   "source": [
    "from pybit._v5_market import MarketHTTP\n",
    "client = MarketHTTP()"
   ]
  },
  {
   "cell_type": "code",
   "execution_count": 21,
   "metadata": {},
   "outputs": [
    {
     "data": {
      "text/plain": [
       "{'retCode': 0,\n",
       " 'retMsg': 'OK',\n",
       " 'result': {'s': 'BTCUSDT',\n",
       "  'b': [['41465.7', '4.704'],\n",
       "   ['41465.6', '1'],\n",
       "   ['41464', '1.75'],\n",
       "   ['41463.9', '2.36'],\n",
       "   ['41463.7', '0.101'],\n",
       "   ['41463.6', '0.59'],\n",
       "   ['41463.3', '0.121'],\n",
       "   ['41462.8', '2.14'],\n",
       "   ['41462.3', '0.121'],\n",
       "   ['41461.8', '0.121'],\n",
       "   ['41461.6', '0.027'],\n",
       "   ['41460.8', '2.59'],\n",
       "   ['41460.7', '0.57'],\n",
       "   ['41460.6', '2.306'],\n",
       "   ['41460.5', '1.438'],\n",
       "   ['41460.1', '0.576'],\n",
       "   ['41459.9', '1.578'],\n",
       "   ['41459.6', '0.57'],\n",
       "   ['41459.5', '2.306'],\n",
       "   ['41459.4', '0.805'],\n",
       "   ['41458.9', '0.567'],\n",
       "   ['41458.8', '0.024'],\n",
       "   ['41458.7', '2.399'],\n",
       "   ['41458.5', '0.808'],\n",
       "   ['41458.4', '0.519']],\n",
       "  'a': [['41465.8', '0.3'],\n",
       "   ['41465.9', '0.5'],\n",
       "   ['41466', '0.111'],\n",
       "   ['41466.5', '0.001'],\n",
       "   ['41466.7', '0.3'],\n",
       "   ['41467.6', '0.121'],\n",
       "   ['41467.7', '1.785'],\n",
       "   ['41468', '0.112'],\n",
       "   ['41468.1', '0.121'],\n",
       "   ['41468.2', '0.802'],\n",
       "   ['41468.3', '0.894'],\n",
       "   ['41468.4', '0.66'],\n",
       "   ['41468.5', '0.387'],\n",
       "   ['41468.9', '0.019'],\n",
       "   ['41469', '0.299'],\n",
       "   ['41469.1', '0.36'],\n",
       "   ['41469.8', '0.034'],\n",
       "   ['41469.9', '0.086'],\n",
       "   ['41470', '0.111'],\n",
       "   ['41470.1', '0.012'],\n",
       "   ['41470.2', '0.136'],\n",
       "   ['41470.4', '0.049'],\n",
       "   ['41470.7', '0.007'],\n",
       "   ['41471.2', '0.036'],\n",
       "   ['41471.3', '0.17']],\n",
       "  'ts': 1702475201883,\n",
       "  'u': 1116874},\n",
       " 'retExtInfo': {},\n",
       " 'time': 1702475201948}"
      ]
     },
     "execution_count": 21,
     "metadata": {},
     "output_type": "execute_result"
    }
   ],
   "source": [
    "client.get_orderbook(category=\"linear\", symbol=\"BTCUSDT\")"
   ]
  },
  {
   "cell_type": "code",
   "execution_count": null,
   "metadata": {},
   "outputs": [],
   "source": []
  }
 ],
 "metadata": {
  "kernelspec": {
   "display_name": "Python 3.10.0 64-bit",
   "language": "python",
   "name": "python3"
  },
  "language_info": {
   "codemirror_mode": {
    "name": "ipython",
    "version": 3
   },
   "file_extension": ".py",
   "mimetype": "text/x-python",
   "name": "python",
   "nbconvert_exporter": "python",
   "pygments_lexer": "ipython3",
   "version": "3.10.0"
  },
  "orig_nbformat": 4,
  "vscode": {
   "interpreter": {
    "hash": "aee8b7b246df8f9039afb4144a1f6fd8d2ca17a180786b69acc140d282b71a49"
   }
  }
 },
 "nbformat": 4,
 "nbformat_minor": 2
}
